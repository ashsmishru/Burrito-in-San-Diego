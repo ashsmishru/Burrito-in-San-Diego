{
 "cells": [
  {
   "cell_type": "code",
   "execution_count": 2,
   "metadata": {},
   "outputs": [],
   "source": [
    "import numpy as np\n",
    "import scipy as sp\n",
    "import matplotlib.pyplot as plt\n",
    "import pandas as pd\n",
    "import seaborn as sns\n",
    "\n",
    "burritos=pd.read_csv('burritos_01022018.csv')"
   ]
  },
  {
   "cell_type": "markdown",
   "metadata": {},
   "source": [
    "# Calculating total ratings given to top best to last best restaurants for each dimension and plotting the graph"
   ]
  },
  {
   "cell_type": "code",
   "execution_count": 3,
   "metadata": {},
   "outputs": [
    {
     "name": "stdout",
     "output_type": "stream",
     "text": [
      "The total number of ratings of Volume at  California Burritos are    nan\n",
      "The total number of ratings of Volume at  Taco Stand are    nan\n",
      "The total number of ratings of Volume at  Lucha Libre North Park are    nan\n",
      "The total number of ratings of Volume at  Los Primos Mexican Food are    nan\n",
      "\n",
      "\n",
      "------------------------------------------------------------------------\n",
      "The total number of ratings of Tortilla at  California Burritos are    91.8\n",
      "The total number of ratings of Tortilla at  Taco Stand are    47.0\n",
      "The total number of ratings of Tortilla at  Lucha Libre North Park are    103.0\n",
      "The total number of ratings of Tortilla at  Los Primos Mexican Food are    40.0\n",
      "\n",
      "\n",
      "------------------------------------------------------------------------\n",
      "The total number of ratings of Temp at  California Burritos are    80.3\n",
      "The total number of ratings of Temp at  Taco Stand are    45.5\n",
      "The total number of ratings of Temp at  Lucha Libre North Park are    89.6\n",
      "The total number of ratings of Temp at  Los Primos Mexican Food are    nan\n",
      "\n",
      "\n",
      "------------------------------------------------------------------------\n",
      "The total number of ratings of Meat at  California Burritos are    93.5\n",
      "The total number of ratings of Meat at  Taco Stand are    51.5\n",
      "The total number of ratings of Meat at  Lucha Libre North Park are    nan\n",
      "The total number of ratings of Meat at  Los Primos Mexican Food are    35.5\n",
      "\n",
      "\n",
      "------------------------------------------------------------------------\n",
      "The total number of ratings of Fillings at  California Burritos are    91.0\n",
      "The total number of ratings of Fillings at  Taco Stand are    48.0\n",
      "The total number of ratings of Fillings at  Lucha Libre North Park are    94.2\n",
      "The total number of ratings of Fillings at  Los Primos Mexican Food are    39.0\n",
      "\n",
      "\n",
      "------------------------------------------------------------------------\n",
      "The total number of ratings of Meat:filling at  California Burritos are    92.75\n",
      "The total number of ratings of Meat:filling at  Taco Stand are    46.2\n",
      "The total number of ratings of Meat:filling at  Lucha Libre North Park are    nan\n",
      "The total number of ratings of Meat:filling at  Los Primos Mexican Food are    25.0\n",
      "\n",
      "\n",
      "------------------------------------------------------------------------\n",
      "The total number of ratings of Uniformity at  California Burritos are    87.0\n",
      "The total number of ratings of Uniformity at  Taco Stand are    46.0\n",
      "The total number of ratings of Uniformity at  Lucha Libre North Park are    89.2\n",
      "The total number of ratings of Uniformity at  Los Primos Mexican Food are    nan\n",
      "\n",
      "\n",
      "------------------------------------------------------------------------\n",
      "The total number of ratings of Salsa at  California Burritos are    nan\n",
      "The total number of ratings of Salsa at  Taco Stand are    43.2\n",
      "The total number of ratings of Salsa at  Lucha Libre North Park are    nan\n",
      "The total number of ratings of Salsa at  Los Primos Mexican Food are    38.0\n",
      "\n",
      "\n",
      "------------------------------------------------------------------------\n",
      "The total number of ratings of Synergy at  California Burritos are    94.0\n",
      "The total number of ratings of Synergy at  Taco Stand are    51.8\n",
      "The total number of ratings of Synergy at  Lucha Libre North Park are    92.8\n",
      "The total number of ratings of Synergy at  Los Primos Mexican Food are    32.0\n",
      "\n",
      "\n",
      "------------------------------------------------------------------------\n",
      "The total number of ratings of Wrap at  California Burritos are    100.0\n",
      "The total number of ratings of Wrap at  Taco Stand are    48.0\n",
      "The total number of ratings of Wrap at  Lucha Libre North Park are    112.4\n",
      "The total number of ratings of Wrap at  Los Primos Mexican Food are    41.0\n",
      "\n",
      "\n",
      "------------------------------------------------------------------------\n",
      "[nan, nan, nan, nan, 91.8, 47.0, 103.0, 40.0, 80.3, 45.5, 89.6, nan, 93.5, 51.5, nan, 35.5, 91.0, 48.0, 94.2, 39.0, 92.75, 46.2, nan, 25.0, 87.0, 46.0, 89.2, nan, nan, 43.2, nan, 38.0, 94.0, 51.8, 92.8, 32.0, 100.0, 48.0, 112.4, 41.0]\n"
     ]
    }
   ],
   "source": [
    "Location =['California Burritos','Taco Stand','Lucha Libre North Park','Los Primos Mexican Food']\n",
    "dimension=['Volume','Tortilla','Temp','Meat','Fillings','Meat:filling','Uniformity','Salsa','Synergy','Wrap']\n",
    "value=[]\n",
    "for i in range(len(dimension)):\n",
    "    for j in range(len(Location)):\n",
    "        values=sum(burritos[burritos['Location']==Location[j]][dimension[i]])\n",
    "        print('The total number of ratings of',dimension[i],'at ',Location[j],'are   ',values)\n",
    "        value.append(values)\n",
    "    print('\\n')\n",
    "    print('------------------------------------------------------------------------')\n",
    "    \n",
    "print(value)"
   ]
  },
  {
   "cell_type": "markdown",
   "metadata": {},
   "source": [
    "# without using for loop"
   ]
  },
  {
   "cell_type": "code",
   "execution_count": 4,
   "metadata": {},
   "outputs": [
    {
     "data": {
      "text/plain": [
       "Text(0, 0.5, 'restaurants')"
      ]
     },
     "execution_count": 4,
     "metadata": {},
     "output_type": "execute_result"
    },
    {
     "data": {
      "image/png": "[encoded data removed]",
      "text/plain": [
       "<Figure size 432x288 with 1 Axes>"
      ]
     },
     "metadata": {
      "needs_background": "light"
     },
     "output_type": "display_data"
    }
   ],
   "source": [
    "\n",
    "Volume=[]\n",
    "vmf=sum(burritos[burritos['Location']=='Valentines Mexican Food']['Volume'])\n",
    "cb=sum(burritos[burritos['Location']=='California Burritos']['Volume'])\n",
    "ts=sum(burritos[burritos['Location']=='Taco Stand']['Volume'])\n",
    "llnp=sum(burritos[burritos['Location']=='Lucha Libre North Park']['Volume'])\n",
    "lpmf=sum(burritos[burritos['Location']=='Los Primos Mexican Food']['Volume'])\n",
    "Volume.append([vmf,cb,ts,llnp,lpmf])\n",
    "Volume=[0,18.748232931726907, 9.098232931726908, 22.991847389558234, 9.25730923694779]\n",
    "Location =['vmf','cb','ts','llnp','Lpmf']\n",
    "sns.barplot(x=Volume,y=Location)\n",
    "plt.xlabel('Volume rating')\n",
    "plt.ylabel('restaurants')\n",
    "\n"
   ]
  },
  {
   "cell_type": "code",
   "execution_count": 5,
   "metadata": {},
   "outputs": [
    {
     "data": {
      "text/plain": [
       "Text(0, 0.5, 'restaurants')"
      ]
     },
     "execution_count": 5,
     "metadata": {},
     "output_type": "execute_result"
    },
    {
     "data": {
      "image/png": "[encoded data removed]",
      "text/plain": [
       "<Figure size 432x288 with 1 Axes>"
      ]
     },
     "metadata": {
      "needs_background": "light"
     },
     "output_type": "display_data"
    }
   ],
   "source": [
    "\n",
    "Tortilla=[]\n",
    "vmf=sum(burritos[burritos['Location']=='Valentines Mexican Food']['Tortilla'])\n",
    "cb=sum(burritos[burritos['Location']=='California Burritos']['Tortilla'])\n",
    "ts=sum(burritos[burritos['Location']=='Taco Stand']['Tortilla'])\n",
    "llnp=sum(burritos[burritos['Location']=='Lucha Libre North Park']['Tortilla'])\n",
    "lpmf=sum(burritos[burritos['Location']=='Los Primos Mexican Food']['Tortilla'])\n",
    "Tortilla.append([vmf,cb,ts,llnp,lpmf])\n",
    "tortilla=[36.5,18.748232931726907, 9.098232931726908, 22.991847389558234, 9.25730923694779]\n",
    "Location =['vmf','cb','ts','llnp','Lpmf']\n",
    "sns.barplot(x=tortilla,y=Location)\n",
    "plt.xlabel('Tortilla rating')\n",
    "plt.ylabel('restaurants')"
   ]
  },
  {
   "cell_type": "code",
   "execution_count": 8,
   "metadata": {},
   "outputs": [
    {
     "data": {
      "text/plain": [
       "Text(0, 0.5, 'restaurants')"
      ]
     },
     "execution_count": 8,
     "metadata": {},
     "output_type": "execute_result"
    },
    {
     "data": {
      "image/png": "[encoded data removed]",
      "text/plain": [
       "<Figure size 432x288 with 1 Axes>"
      ]
     },
     "metadata": {
      "needs_background": "light"
     },
     "output_type": "display_data"
    }
   ],
   "source": [
    "Meat=[]\n",
    "vmf=sum(burritos[burritos['Location']=='Valentines Mexican Food']['Meat'])\n",
    "cb=sum(burritos[burritos['Location']=='California Burritos']['Meat'])\n",
    "ts=sum(burritos[burritos['Location']=='Taco Stand']['Meat'])\n",
    "llnp=sum(burritos[burritos['Location']=='Lucha Libre North Park']['Meat'])\n",
    "lpmf=sum(burritos[burritos['Location']=='Los Primos Mexican Food']['Meat'])\n",
    "Meat.append([vmf,cb,ts,llnp,lpmf])\n",
    "Meat=[37.2, 93.5, 51.5, 0, 35.5]\n",
    "Location =['vmf','cb','ts','llnp','Lpmf']\n",
    "sns.barplot(x=Meat,y=Location)\n",
    "plt.xlabel('Meat flavour')\n",
    "plt.ylabel('restaurants')"
   ]
  },
  {
   "cell_type": "code",
   "execution_count": 12,
   "metadata": {},
   "outputs": [
    {
     "data": {
      "text/plain": [
       "Text(0, 0.5, 'restaurants')"
      ]
     },
     "execution_count": 12,
     "metadata": {},
     "output_type": "execute_result"
    },
    {
     "data": {
      "image/png": "[encoded data removed]",
      "text/plain": [
       "<Figure size 432x288 with 1 Axes>"
      ]
     },
     "metadata": {
      "needs_background": "light"
     },
     "output_type": "display_data"
    }
   ],
   "source": [
    "Fillings=[]\n",
    "vmf=sum(burritos[burritos['Location']=='Valentines Mexican Food']['Fillings'])\n",
    "cb=sum(burritos[burritos['Location']=='California Burritos']['Fillings'])\n",
    "ts=sum(burritos[burritos['Location']=='Taco Stand']['Fillings'])\n",
    "llnp=sum(burritos[burritos['Location']=='Lucha Libre North Park']['Fillings'])\n",
    "lpmf=sum(burritos[burritos['Location']=='Los Primos Mexican Food']['Fillings'])\n",
    "Fillings.append([vmf,cb,ts,llnp,lpmf])\n",
    "Fillings=[37.5, 91.0, 48.0, 94.2, 39.0]\n",
    "Location =['vmf','cb','ts','llnp','Lpmf']\n",
    "sns.barplot(x=Fillings,y=Location)\n",
    "plt.xlabel('Filling / Non Meat flavour')\n",
    "plt.ylabel('restaurants')"
   ]
  },
  {
   "cell_type": "code",
   "execution_count": 23,
   "metadata": {},
   "outputs": [
    {
     "data": {
      "text/plain": [
       "Text(0, 0.5, 'restaurants')"
      ]
     },
     "execution_count": 23,
     "metadata": {},
     "output_type": "execute_result"
    },
    {
     "data": {
      "image/png": "[encoded data removed]",
      "text/plain": [
       "<Figure size 432x288 with 1 Axes>"
      ]
     },
     "metadata": {
      "needs_background": "light"
     },
     "output_type": "display_data"
    }
   ],
   "source": [
    "Meat_Fillings=[]\n",
    "vmf=sum(burritos[burritos['Location']=='Valentines Mexican Food']['Meat:filling'])\n",
    "cb=sum(burritos[burritos['Location']=='California Burritos']['Meat:filling'])\n",
    "ts=sum(burritos[burritos['Location']=='Taco Stand']['Meat:filling'])\n",
    "llnp=sum(burritos[burritos['Location']=='Lucha Libre North Park']['Meat:filling'])\n",
    "lpmf=sum(burritos[burritos['Location']=='Los Primos Mexican Food']['Meat:filling'])\n",
    "Meat_Fillings.append([vmf,cb,ts,llnp,lpmf])\n",
    "Meat_Fillings=[40.5, 92.75, 46.2, 0, 39.0]\n",
    "Location =['Valentines Mexican Food','California Burritos','Taco Stand','Lucha Libre North Park','Los Primos Mexican Food']\n",
    "sns.barplot(x=Meat_Fillings,y=Location)\n",
    "plt.xlabel(' Meat filling')\n",
    "plt.ylabel('restaurants')"
   ]
  },
  {
   "cell_type": "code",
   "execution_count": 27,
   "metadata": {},
   "outputs": [
    {
     "data": {
      "text/plain": [
       "Text(0, 0.5, 'restaurants')"
      ]
     },
     "execution_count": 27,
     "metadata": {},
     "output_type": "execute_result"
    },
    {
     "data": {
      "image/png": "[encoded data removed]",
      "text/plain": [
       "<Figure size 432x288 with 1 Axes>"
      ]
     },
     "metadata": {
      "needs_background": "light"
     },
     "output_type": "display_data"
    }
   ],
   "source": [
    "temparature=[]\n",
    "vmf=sum(burritos[burritos['Location']=='Valentines Mexican Food']['Temp'])\n",
    "cb=sum(burritos[burritos['Location']=='California Burritos']['Temp'])\n",
    "ts=sum(burritos[burritos['Location']=='Taco Stand']['Temp'])\n",
    "llnp=sum(burritos[burritos['Location']=='Lucha Libre North Park']['Temp'])\n",
    "lpmf=sum(burritos[burritos['Location']=='Los Primos Mexican Food']['Temp'])\n",
    "temparature.append([vmf,cb,ts,llnp,lpmf])\n",
    "temparature=[39.7, 80.3, 45.5, 89.6, 0]\n",
    "Location =['Valentines Mexican Food','California Burritos','Taco Stand','Lucha Libre North Park','Los Primos Mexican Food']\n",
    "sns.barplot(x=temparature,y=Location)\n",
    "plt.xlabel(' Temparature')\n",
    "plt.ylabel('restaurants')"
   ]
  },
  {
   "cell_type": "code",
   "execution_count": 30,
   "metadata": {},
   "outputs": [
    {
     "data": {
      "text/plain": [
       "Text(0, 0.5, 'restaurants')"
      ]
     },
     "execution_count": 30,
     "metadata": {},
     "output_type": "execute_result"
    },
    {
     "data": {
      "image/png": "[encoded data removed]",
      "text/plain": [
       "<Figure size 432x288 with 1 Axes>"
      ]
     },
     "metadata": {
      "needs_background": "light"
     },
     "output_type": "display_data"
    }
   ],
   "source": [
    "Uniformity=[]\n",
    "vmf=sum(burritos[burritos['Location']=='Valentines Mexican Food']['Uniformity'])\n",
    "cb=sum(burritos[burritos['Location']=='California Burritos']['Uniformity'])\n",
    "ts=sum(burritos[burritos['Location']=='Taco Stand']['Uniformity'])\n",
    "llnp=sum(burritos[burritos['Location']=='Lucha Libre North Park']['Uniformity'])\n",
    "lpmf=sum(burritos[burritos['Location']=='Los Primos Mexican Food']['Uniformity'])\n",
    "Uniformity.append([vmf,cb,ts,llnp,lpmf])\n",
    "Uniformity=[37.0, 87.0, 46.0, 89.2, 0]\n",
    "Location =['Valentines Mexican Food','California Burritos','Taco Stand','Lucha Libre North Park','Los Primos Mexican Food']\n",
    "sns.barplot(x=temparature,y=Location)\n",
    "plt.xlabel(' Temparature')\n",
    "plt.ylabel('restaurants')"
   ]
  },
  {
   "cell_type": "code",
   "execution_count": 33,
   "metadata": {},
   "outputs": [
    {
     "data": {
      "text/plain": [
       "Text(0, 0.5, 'restaurants')"
      ]
     },
     "execution_count": 33,
     "metadata": {},
     "output_type": "execute_result"
    },
    {
     "data": {
      "image/png": "[encoded data removed]",
      "text/plain": [
       "<Figure size 432x288 with 1 Axes>"
      ]
     },
     "metadata": {
      "needs_background": "light"
     },
     "output_type": "display_data"
    }
   ],
   "source": [
    "Salsa=[]\n",
    "vmf=sum(burritos[burritos['Location']=='Valentines Mexican Food']['Salsa'])\n",
    "cb=sum(burritos[burritos['Location']=='California Burritos']['Salsa'])\n",
    "ts=sum(burritos[burritos['Location']=='Taco Stand']['Salsa'])\n",
    "llnp=sum(burritos[burritos['Location']=='Lucha Libre North Park']['Salsa'])\n",
    "lpmf=sum(burritos[burritos['Location']=='Los Primos Mexican Food']['Salsa'])\n",
    "Salsa.append([vmf,cb,ts,llnp,lpmf])\n",
    "Salsa=[33.5, 0, 43.2, 0, 38.0]\n",
    "Location =['Valentines Mexican Food','California Burritos','Taco Stand','Lucha Libre North Park','Los Primos Mexican Food']\n",
    "sns.barplot(x=Salsa,y=Location)\n",
    "plt.xlabel(' Salsa')\n",
    "plt.ylabel('restaurants')"
   ]
  },
  {
   "cell_type": "code",
   "execution_count": 36,
   "metadata": {},
   "outputs": [
    {
     "data": {
      "text/plain": [
       "Text(0, 0.5, 'restaurants')"
      ]
     },
     "execution_count": 36,
     "metadata": {},
     "output_type": "execute_result"
    },
    {
     "data": {
      "image/png": "[encoded data removed]",
      "text/plain": [
       "<Figure size 432x288 with 1 Axes>"
      ]
     },
     "metadata": {
      "needs_background": "light"
     },
     "output_type": "display_data"
    }
   ],
   "source": [
    "Synergy=[]\n",
    "vmf=sum(burritos[burritos['Location']=='Valentines Mexican Food']['Synergy'])\n",
    "cb=sum(burritos[burritos['Location']=='California Burritos']['Synergy'])\n",
    "ts=sum(burritos[burritos['Location']=='Taco Stand']['Synergy'])\n",
    "llnp=sum(burritos[burritos['Location']=='Lucha Libre North Park']['Synergy'])\n",
    "lpmf=sum(burritos[burritos['Location']=='Los Primos Mexican Food']['Synergy'])\n",
    "Synergy.append([vmf,cb,ts,llnp,lpmf])\n",
    "Synergy=[36.0, 94.0, 51.8, 92.8, 32.0]\n",
    "Location =['Valentines Mexican Food','California Burritos','Taco Stand','Lucha Libre North Park','Los Primos Mexican Food']\n",
    "sns.barplot(x=Synergy,y=Location)\n",
    "plt.xlabel(' Synergy')\n",
    "plt.ylabel('restaurants')"
   ]
  },
  {
   "cell_type": "code",
   "execution_count": 39,
   "metadata": {},
   "outputs": [
    {
     "data": {
      "text/plain": [
       "Text(0, 0.5, 'restaurants')"
      ]
     },
     "execution_count": 39,
     "metadata": {},
     "output_type": "execute_result"
    },
    {
     "data": {
      "image/png": "[encoded data removed]",
      "text/plain": [
       "<Figure size 432x288 with 1 Axes>"
      ]
     },
     "metadata": {
      "needs_background": "light"
     },
     "output_type": "display_data"
    }
   ],
   "source": [
    "Wrap=[]\n",
    "vmf=sum(burritos[burritos['Location']=='Valentines Mexican Food']['Wrap'])\n",
    "cb=sum(burritos[burritos['Location']=='California Burritos']['Wrap'])\n",
    "ts=sum(burritos[burritos['Location']=='Taco Stand']['Wrap'])\n",
    "llnp=sum(burritos[burritos['Location']=='Lucha Libre North Park']['Wrap'])\n",
    "lpmf=sum(burritos[burritos['Location']=='Los Primos Mexican Food']['Wrap'])\n",
    "Wrap.append([vmf,cb,ts,llnp,lpmf])\n",
    "Wrap=[29.0, 100.0, 48.0, 112.4, 41.0]\n",
    "Location =['Valentines Mexican Food','California Burritos','Taco Stand','Lucha Libre North Park','Los Primos Mexican Food']\n",
    "sns.barplot(x=Wrap,y=Location)\n",
    "plt.xlabel(' Wrap')\n",
    "plt.ylabel('restaurants')"
   ]
  },
  {
   "cell_type": "code",
   "execution_count": null,
   "metadata": {},
   "outputs": [],
   "source": []
  }
 ],
 "metadata": {
  "kernelspec": {
   "display_name": "Python 3",
   "language": "python",
   "name": "python3"
  },
  "language_info": {
   "codemirror_mode": {
    "name": "ipython",
    "version": 3
   },
   "file_extension": ".py",
   "mimetype": "text/x-python",
   "name": "python",
   "nbconvert_exporter": "python",
   "pygments_lexer": "ipython3",
   "version": "3.7.1"
  }
 },
 "nbformat": 4,
 "nbformat_minor": 2
}

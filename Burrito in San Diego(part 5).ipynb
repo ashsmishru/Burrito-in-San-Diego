{
 "cells": [
  {
   "cell_type": "code",
   "execution_count": 1,
   "metadata": {},
   "outputs": [],
   "source": [
    "import numpy as np\n",
    "import scipy as sp\n",
    "import matplotlib.pyplot as plt\n",
    "import pandas as pd\n",
    "import seaborn as sns\n",
    "\n",
    "burritos=pd.read_csv('burritos_01022018.csv')\n",
    "burritos = burritos.fillna(burritos.mean())"
   ]
  },
  {
   "cell_type": "markdown",
   "metadata": {},
   "source": [
    "# Number of burritos / restaurants / reviewers in db??"
   ]
  },
  {
   "cell_type": "markdown",
   "metadata": {},
   "source": [
    "# Lets find total number of burritos, restaurants and reviewers first"
   ]
  },
  {
   "cell_type": "code",
   "execution_count": 2,
   "metadata": {},
   "outputs": [
    {
     "name": "stdout",
     "output_type": "stream",
     "text": [
      "Total number of all burritos: 385\n",
      "Number of burritos prepared with unique burrito 123\n",
      "Number of restaurants: 103\n",
      "Number of reviewers: 91\n"
     ]
    }
   ],
   "source": [
    "print('Total number of all burritos:',burritos.shape[0])\n",
    "print('Number of burritos prepared with unique burrito',burritos.Burrito.nunique())\n",
    "print('Number of restaurants:',burritos.Location.nunique())\n",
    "print('Number of reviewers:', burritos.Reviewer.nunique())"
   ]
  },
  {
   "cell_type": "markdown",
   "metadata": {},
   "source": [
    "# Lets find each unique value"
   ]
  },
  {
   "cell_type": "code",
   "execution_count": 3,
   "metadata": {},
   "outputs": [
    {
     "name": "stdout",
     "output_type": "stream",
     "text": [
      "Lucha Libre North Park        28\n",
      "Rigoberto's Taco Shop         24\n",
      "California Burritos           23\n",
      "Taco Villa                    19\n",
      "Los Primos Mexican Food       12\n",
      "Taco Stand                    12\n",
      "Taco stand                    12\n",
      "Los Tacos                     12\n",
      "Vallarta express               9\n",
      "El Zarape                      9\n",
      "Valentines Mexican Food        9\n",
      "Cancun Mexican & Seafood       6\n",
      "Lupe's Taco Shop               6\n",
      "California burritos            6\n",
      "California Burrito Company     5\n",
      "Name: Location, dtype: int64\n",
      "\n",
      "The total number of all restaurants  385\n"
     ]
    }
   ],
   "source": [
    "print(pd.value_counts(burritos.Location).head(15))\n",
    "print('\\nThe total number of all restaurants ',sum(pd.value_counts(burritos.Location)))"
   ]
  },
  {
   "cell_type": "code",
   "execution_count": 4,
   "metadata": {},
   "outputs": [
    {
     "name": "stdout",
     "output_type": "stream",
     "text": [
      "California                   91\n",
      "Carne asada                  27\n",
      "California                   26\n",
      "Carnitas                     17\n",
      "Surf & Turf                  15\n",
      "California Everything        14\n",
      "Local                        13\n",
      "Al pastor                     9\n",
      "Surfin California             8\n",
      "Adobada                       7\n",
      "Holy Moly                     5\n",
      "Custom                        5\n",
      "Carne asada everything        4\n",
      "California - Pork Adobada     3\n",
      "2 in 1                        3\n",
      "Name: Burrito, dtype: int64\n",
      "\n",
      "The total number of all Burrito 385\n"
     ]
    }
   ],
   "source": [
    "print(pd.value_counts(burritos.Burrito).head(15))\n",
    "print('\\nThe total number of all Burrito',sum(pd.value_counts(burritos.Burrito)))"
   ]
  },
  {
   "cell_type": "code",
   "execution_count": 5,
   "metadata": {},
   "outputs": [
    {
     "name": "stdout",
     "output_type": "stream",
     "text": [
      "Scott      136\n",
      "Emily       58\n",
      "Ricardo     16\n",
      "Sage        15\n",
      "Luis        10\n",
      "Richard     10\n",
      "Elynn        9\n",
      "Brent        8\n",
      "Erin         6\n",
      "Tom          6\n",
      "Matteo       5\n",
      "Marc         4\n",
      "Hannah       4\n",
      "Bankole      3\n",
      "Erik         3\n",
      "Name: Reviewer, dtype: int64\n",
      "\n",
      "The total number of all Burrito 384\n"
     ]
    }
   ],
   "source": [
    "print(pd.value_counts(burritos.Reviewer).head(15))\n",
    "print('\\nThe total number of all Burrito',sum(pd.value_counts(burritos.Reviewer)))"
   ]
  },
  {
   "cell_type": "markdown",
   "metadata": {},
   "source": [
    "# calculating best resturants based on overall rating??"
   ]
  },
  {
   "cell_type": "code",
   "execution_count": 6,
   "metadata": {},
   "outputs": [
    {
     "data": {
      "text/html": [
       "<div>\n",
       "<style scoped>\n",
       "    .dataframe tbody tr th:only-of-type {\n",
       "        vertical-align: middle;\n",
       "    }\n",
       "\n",
       "    .dataframe tbody tr th {\n",
       "        vertical-align: top;\n",
       "    }\n",
       "\n",
       "    .dataframe thead th {\n",
       "        text-align: right;\n",
       "    }\n",
       "</style>\n",
       "<table border=\"1\" class=\"dataframe\">\n",
       "  <thead>\n",
       "    <tr style=\"text-align: right;\">\n",
       "      <th></th>\n",
       "      <th>overall</th>\n",
       "      <th>Location</th>\n",
       "    </tr>\n",
       "  </thead>\n",
       "  <tbody>\n",
       "    <tr>\n",
       "      <th>13</th>\n",
       "      <td>4.366667</td>\n",
       "      <td>Valentines Mexican Food</td>\n",
       "    </tr>\n",
       "    <tr>\n",
       "      <th>10</th>\n",
       "      <td>4.225000</td>\n",
       "      <td>Taco Stand</td>\n",
       "    </tr>\n",
       "    <tr>\n",
       "      <th>6</th>\n",
       "      <td>4.208333</td>\n",
       "      <td>Los Tacos</td>\n",
       "    </tr>\n",
       "    <tr>\n",
       "      <th>0</th>\n",
       "      <td>4.178679</td>\n",
       "      <td>California Burritos</td>\n",
       "    </tr>\n",
       "    <tr>\n",
       "      <th>12</th>\n",
       "      <td>4.116667</td>\n",
       "      <td>Taco stand</td>\n",
       "    </tr>\n",
       "    <tr>\n",
       "      <th>2</th>\n",
       "      <td>4.100000</td>\n",
       "      <td>Cancun Mexican &amp; Seafood</td>\n",
       "    </tr>\n",
       "    <tr>\n",
       "      <th>1</th>\n",
       "      <td>4.100000</td>\n",
       "      <td>California burritos</td>\n",
       "    </tr>\n",
       "    <tr>\n",
       "      <th>9</th>\n",
       "      <td>3.927083</td>\n",
       "      <td>Rigoberto's Taco Shop</td>\n",
       "    </tr>\n",
       "    <tr>\n",
       "      <th>4</th>\n",
       "      <td>3.660000</td>\n",
       "      <td>Lolita's taco shop</td>\n",
       "    </tr>\n",
       "    <tr>\n",
       "      <th>3</th>\n",
       "      <td>3.548148</td>\n",
       "      <td>El Zarape</td>\n",
       "    </tr>\n",
       "    <tr>\n",
       "      <th>8</th>\n",
       "      <td>3.541667</td>\n",
       "      <td>Lupe's Taco Shop</td>\n",
       "    </tr>\n",
       "    <tr>\n",
       "      <th>14</th>\n",
       "      <td>3.500000</td>\n",
       "      <td>Vallarta express</td>\n",
       "    </tr>\n",
       "    <tr>\n",
       "      <th>11</th>\n",
       "      <td>3.447368</td>\n",
       "      <td>Taco Villa</td>\n",
       "    </tr>\n",
       "    <tr>\n",
       "      <th>7</th>\n",
       "      <td>3.264286</td>\n",
       "      <td>Lucha Libre North Park</td>\n",
       "    </tr>\n",
       "    <tr>\n",
       "      <th>5</th>\n",
       "      <td>2.758333</td>\n",
       "      <td>Los Primos Mexican Food</td>\n",
       "    </tr>\n",
       "  </tbody>\n",
       "</table>\n",
       "</div>"
      ],
      "text/plain": [
       "     overall                  Location\n",
       "13  4.366667   Valentines Mexican Food\n",
       "10  4.225000                Taco Stand\n",
       "6   4.208333                 Los Tacos\n",
       "0   4.178679       California Burritos\n",
       "12  4.116667                Taco stand\n",
       "2   4.100000  Cancun Mexican & Seafood\n",
       "1   4.100000       California burritos\n",
       "9   3.927083     Rigoberto's Taco Shop\n",
       "4   3.660000        Lolita's taco shop\n",
       "3   3.548148                 El Zarape\n",
       "8   3.541667          Lupe's Taco Shop\n",
       "14  3.500000          Vallarta express\n",
       "11  3.447368                Taco Villa\n",
       "7   3.264286    Lucha Libre North Park\n",
       "5   2.758333   Los Primos Mexican Food"
      ]
     },
     "execution_count": 6,
     "metadata": {},
     "output_type": "execute_result"
    }
   ],
   "source": [
    "x = burritos.groupby('Location').size().reset_index()\n",
    "temp = x.sort_values(ascending=False, by=0)\n",
    "temp\n",
    "temp = temp[:15]\n",
    "y = pd.DataFrame()\n",
    "for name in temp['Location']:\n",
    "    y = y.append(burritos[(burritos.Location==name)])\n",
    "x = y.groupby('Location').mean().reset_index()\n",
    "x = x.sort_values(by = ['overall','Location'],ascending=[False,False],)\n",
    "x[[ 'overall','Location']]"
   ]
  },
  {
   "cell_type": "markdown",
   "metadata": {},
   "source": [
    "# Now lets calculate the ratings list given at top  best restaurants??"
   ]
  },
  {
   "cell_type": "code",
   "execution_count": 7,
   "metadata": {},
   "outputs": [
    {
     "name": "stdout",
     "output_type": "stream",
     "text": [
      "The overall rating given at Valentines Mexican Food and no. of rating repeated is as shown\n",
      " 4.2    2\n",
      "4.0    2\n",
      "4.8    1\n",
      "3.9    1\n",
      "4.7    1\n",
      "4.5    1\n",
      "5.0    1\n",
      "Name: overall, dtype: int64\n",
      "\n",
      "The total no. of rating give is:  9\n"
     ]
    }
   ],
   "source": [
    "vmf=burritos[burritos['Location']=='Valentines Mexican Food']['overall']\n",
    "vmf=pd.value_counts(vmf)\n",
    "print('The overall rating given at Valentines Mexican Food and no. of rating repeated is as shown\\n',vmf)\n",
    "print('\\nThe total no. of rating give is: ',sum(vmf))"
   ]
  },
  {
   "cell_type": "code",
   "execution_count": 8,
   "metadata": {},
   "outputs": [
    {
     "name": "stdout",
     "output_type": "stream",
     "text": [
      "The overall rating given at Taco Stand and no. of rating repeated is as shown\n",
      " 4.5    3\n",
      "4.2    2\n",
      "4.0    2\n",
      "4.7    1\n",
      "3.9    1\n",
      "4.6    1\n",
      "4.1    1\n",
      "3.5    1\n",
      "Name: overall, dtype: int64\n",
      "\n",
      "The total no. of rating give is:  12\n"
     ]
    }
   ],
   "source": [
    "ts=burritos[burritos['Location']=='Taco Stand']['overall']\n",
    "ts=pd.value_counts(ts)\n",
    "print('The overall rating given at Taco Stand and no. of rating repeated is as shown\\n',ts)\n",
    "print('\\nThe total no. of rating give is: ',sum(ts))"
   ]
  },
  {
   "cell_type": "code",
   "execution_count": 9,
   "metadata": {},
   "outputs": [
    {
     "name": "stdout",
     "output_type": "stream",
     "text": [
      "The overall rating given at California Burritosand no. of rating repeated is as shown\n",
      " 4.000000    7\n",
      "4.500000    4\n",
      "3.604813    2\n",
      "5.000000    2\n",
      "4.600000    1\n",
      "4.100000    1\n",
      "3.400000    1\n",
      "4.700000    1\n",
      "3.900000    1\n",
      "4.200000    1\n",
      "3.750000    1\n",
      "4.250000    1\n",
      "Name: overall, dtype: int64\n",
      "\n",
      "The total no. of rating give is:  23\n"
     ]
    }
   ],
   "source": [
    "cb=burritos[burritos['Location']=='California Burritos']['overall']\n",
    "cb=pd.value_counts(cb)\n",
    "print('The overall rating given at California Burritosand no. of rating repeated is as shown\\n',cb)\n",
    "print('\\nThe total no. of rating give is: ',sum(cb))"
   ]
  },
  {
   "cell_type": "markdown",
   "metadata": {},
   "source": [
    "# Now lets see which are the burritos which are rated at the best at the top resturants ??"
   ]
  },
  {
   "cell_type": "code",
   "execution_count": 10,
   "metadata": {},
   "outputs": [
    {
     "name": "stdout",
     "output_type": "stream",
     "text": [
      "\n",
      "The types of Burritios and there number prepared at \"Taco Stand which has rated highest at 4.7 out of 5 are:\n",
      " California    1\n",
      "Name: Burrito, dtype: int64\n",
      "\n",
      "The types of Burritios and there number prepared at \"Taco Stand which has rated highest at 4.6 out of 5 are:\n",
      " California    1\n",
      "Name: Burrito, dtype: int64\n",
      "\n",
      "The types of Burritios and there number prepared at \"Taco Stand which has rated highest at 4.5 out of 5 are:\n",
      " Al Pastor      1\n",
      "California     1\n",
      "California     1\n",
      "Name: Burrito, dtype: int64\n",
      "\n",
      "The types of Burritios and there number prepared at \"Taco Stand which has rated highest at 4.2 out of 5 are:\n",
      " California     1\n",
      "California     1\n",
      "Name: Burrito, dtype: int64\n",
      "\n",
      "-----------------------------------------------------------------------------------------------------------------------------------------\n",
      "\n",
      "The types of Burritios and there number prepared at \"Valentines Mexican Food\" which has rated highest at 4.8 out of 5 are:\n",
      " California    1\n",
      "Name: Burrito, dtype: int64\n",
      "\n",
      "The types of Burritios and there number prepared at \"Valentines Mexican Food\" which has rated highest at 4.7 out of 5 are:\n",
      " California    1\n",
      "Name: Burrito, dtype: int64\n",
      "\n",
      "The types of Burritios and there number prepared at \"Valentines Mexican Food\" which has rated highest at 4.5 out of 5 are:\n",
      " California    1\n",
      "Name: Burrito, dtype: int64\n",
      "\n",
      "The types of Burritios and there number prepared at \"Valentines Mexican Food\" which has rated highest at 4.2 out of 5 are:\n",
      " California     1\n",
      "Carne asada    1\n",
      "Name: Burrito, dtype: int64\n",
      "\n",
      "-----------------------------------------------------------------------------------------------------------------------------------------\n",
      "\n",
      "The types of Burritios and there number prepared at \"California Burrito\" which has rated highest at 5.0 out of 5 are:\n",
      " Series([], Name: Burrito, dtype: int64)\n",
      "\n",
      "The types of Burritios and there number prepared at \"California Burrito\" which has rated highest at 4.7 out of 5 are:\n",
      " Series([], Name: Burrito, dtype: int64)\n",
      "\n",
      "The types of Burritios and there number prepared at \"California Burrito\" which has rated highest at 4.5 out of 5 are:\n",
      " Series([], Name: Burrito, dtype: int64)\n",
      "\n",
      "The types of Burritios and there number prepared at \"California Burrito\" which has rated highest at 4.2 out of 5 are:\n",
      " Series([], Name: Burrito, dtype: int64)\n",
      "\n",
      "The types of Burritios and there number prepared at \"California Burrito\" which has rated highest at 4.0 out of 5 are:\n",
      " Series([], Name: Burrito, dtype: int64)\n"
     ]
    }
   ],
   "source": [
    "#Taking the best overall ranking and finding the how many burritos with each kind is prepared at each best restaurant \n",
    "\n",
    "a=[4.7, 4.6, 4.5, 4.2]\n",
    "for i in range(len(a)):\n",
    "    ts=burritos[(burritos['overall']== a[i]) & (burritos['Location']=='Taco Stand')]['Burrito']\n",
    "    pd.value_counts(ts)\n",
    "    print('\\nThe types of Burritios and there number prepared at \"Taco Stand which has rated highest at',a[i],'out of 5 are:\\n',pd.value_counts(ts))\n",
    "    \n",
    "print('\\n-----------------------------------------------------------------------------------------------------------------------------------------')\n",
    "a=[4.8, 4.7, 4.5, 4.2]\n",
    "for i in range(len(a)):\n",
    "    ts=burritos[(burritos['overall']== a[i]) & (burritos['Location']=='Valentines Mexican Food')]['Burrito']\n",
    "    pd.value_counts(ts)\n",
    "    print('\\nThe types of Burritios and there number prepared at \"Valentines Mexican Food\" which has rated highest at',a[i],'out of 5 are:\\n',pd.value_counts(ts))\n",
    "\n",
    "print('\\n-----------------------------------------------------------------------------------------------------------------------------------------')\n",
    "a=[5.0, 4.7, 4.5, 4.2, 4.0]\n",
    "for i in range(len(a)):\n",
    "    ts=burritos[(burritos['overall']== a[i]) & (burritos['Location']=='California Burrito')]['Burrito']\n",
    "    pd.value_counts(ts)\n",
    "    print('\\nThe types of Burritios and there number prepared at \"California Burrito\" which has rated highest at',a[i],'out of 5 are:\\n',pd.value_counts(ts))"
   ]
  },
  {
   "cell_type": "markdown",
   "metadata": {},
   "source": [
    "#  Reviewer who have rated at the best taco shops at a high ratings??"
   ]
  },
  {
   "cell_type": "code",
   "execution_count": 11,
   "metadata": {},
   "outputs": [
    {
     "name": "stdout",
     "output_type": "stream",
     "text": [
      "\n",
      " The reviewer at \"Taco Stand\" who have rated at 4.7 are\n",
      " Luis    1\n",
      "Name: Reviewer, dtype: int64\n",
      "\n",
      " The reviewer at \"Taco Stand\" who have rated at 4.6 are\n",
      " Scott    1\n",
      "Name: Reviewer, dtype: int64\n",
      "\n",
      " The reviewer at \"Taco Stand\" who have rated at 4.5 are\n",
      " Mike     1\n",
      "Ben S    1\n",
      "Emily    1\n",
      "Name: Reviewer, dtype: int64\n",
      "\n",
      " The reviewer at \"Taco Stand\" who have rated at 4.2 are\n",
      " Scott    1\n",
      "Emily    1\n",
      "Name: Reviewer, dtype: int64\n",
      "\n",
      "---------------------------------------------------------------------------\n",
      "\n",
      " The reviewer at \"valentines Mexican Food\" who have rated at 4.8 are\n",
      " Series([], Name: Reviewer, dtype: int64)\n",
      "\n",
      " The reviewer at \"valentines Mexican Food\" who have rated at 4.7 are\n",
      " Series([], Name: Reviewer, dtype: int64)\n",
      "\n",
      " The reviewer at \"valentines Mexican Food\" who have rated at 4.5 are\n",
      " Series([], Name: Reviewer, dtype: int64)\n",
      "\n",
      " The reviewer at \"valentines Mexican Food\" who have rated at 4.2 are\n",
      " Series([], Name: Reviewer, dtype: int64)\n"
     ]
    }
   ],
   "source": [
    "a=[4.7, 4.6, 4.5, 4.2]\n",
    "for i in range(len(a)):\n",
    "    reviewer= burritos[(burritos['overall']== a[i]) & (burritos['Location']=='Taco Stand')]['Reviewer']\n",
    "    pd.value_counts(reviewer)\n",
    "    print('\\n The reviewer at \"Taco Stand\" who have rated at',a[i],'are\\n',pd.value_counts(reviewer))\n",
    "    \n",
    "print('\\n---------------------------------------------------------------------------')\n",
    "a=[4.8, 4.7, 4.5, 4.2]\n",
    "for i in range(len(a)):\n",
    "    reviewer= burritos[(burritos['overall']== a[i]) & (burritos['Location']=='Vlentines Mexican Food')]['Reviewer']\n",
    "    pd.value_counts(reviewer)\n",
    "    print('\\n The reviewer at \"valentines Mexican Food\" who have rated at',a[i],'are\\n',pd.value_counts(reviewer))\n",
    "   \n",
    "    "
   ]
  },
  {
   "cell_type": "markdown",
   "metadata": {},
   "source": [
    "# Now lets calculate the ratings list given at top least best restaurants"
   ]
  },
  {
   "cell_type": "code",
   "execution_count": 12,
   "metadata": {},
   "outputs": [
    {
     "name": "stdout",
     "output_type": "stream",
     "text": [
      "The overall rating given at Lucha Libre North Park and no. of rating repeated is as shown\n",
      " 3.50    5\n",
      "3.00    5\n",
      "4.00    3\n",
      "2.00    3\n",
      "3.90    2\n",
      "4.50    2\n",
      "2.20    1\n",
      "4.40    1\n",
      "3.60    1\n",
      "2.40    1\n",
      "1.50    1\n",
      "2.50    1\n",
      "4.25    1\n",
      "3.25    1\n",
      "Name: overall, dtype: int64\n",
      "\n",
      "The total no. of rating give is:  28\n"
     ]
    }
   ],
   "source": [
    "llnp=burritos[burritos['Location']=='Lucha Libre North Park']['overall']\n",
    "llnp=pd.value_counts(llnp)\n",
    "print('The overall rating given at Lucha Libre North Park and no. of rating repeated is as shown\\n',llnp)\n",
    "print('\\nThe total no. of rating give is: ',sum(llnp))"
   ]
  },
  {
   "cell_type": "code",
   "execution_count": 13,
   "metadata": {},
   "outputs": [
    {
     "name": "stdout",
     "output_type": "stream",
     "text": [
      "The overall rating given at Los Primos Mexican Food and no. of rating repeated is as shown\n",
      " 2.0    4\n",
      "2.5    2\n",
      "2.6    1\n",
      "3.9    1\n",
      "3.8    1\n",
      "2.3    1\n",
      "3.5    1\n",
      "4.0    1\n",
      "Name: overall, dtype: int64\n",
      "\n",
      "The total no. of rating give is:  12\n"
     ]
    }
   ],
   "source": [
    "lpmf=burritos[burritos['Location']=='Los Primos Mexican Food']['overall']\n",
    "lpmf=pd.value_counts(lpmf)\n",
    "print('The overall rating given at Los Primos Mexican Food and no. of rating repeated is as shown\\n',lpmf)\n",
    "print('\\nThe total no. of rating give is: ',sum(lpmf))"
   ]
  },
  {
   "cell_type": "code",
   "execution_count": 14,
   "metadata": {},
   "outputs": [
    {
     "name": "stdout",
     "output_type": "stream",
     "text": [
      "The best ratings given at least best restaurant (i.e) Los Primos Mexican Food are 4.5, 4, 3.9, 3.5, 3\n",
      "The best ratings given at least best restaurant (i.e) Lucha Libre North Park are 4, 3.9, 3.5, 2.5, 2\n"
     ]
    }
   ],
   "source": [
    "print('The best ratings given at least best restaurant (i.e) Los Primos Mexican Food are 4.5, 4, 3.9, 3.5, 3')\n",
    "print('The best ratings given at least best restaurant (i.e) Lucha Libre North Park are 4, 3.9, 3.5, 2.5, 2')\n",
    "\n",
    "    "
   ]
  },
  {
   "cell_type": "markdown",
   "metadata": {},
   "source": [
    "# Finding the average ratings of each dimensions at top best restaurants to least best restaurants (i.e) keeping dimensions common varying the restaurants ??"
   ]
  },
  {
   "cell_type": "code",
   "execution_count": 15,
   "metadata": {},
   "outputs": [
    {
     "name": "stdout",
     "output_type": "stream",
     "text": [
      "The average ratings of Volume at  valentines Mexican food are    nan\n",
      "The average ratings of Volume at  California Burritos are    0.815140562248996\n",
      "The average ratings of Volume at  Taco Stand are    0.758186077643909\n",
      "The average ratings of Volume at  Lucha Libre North Park are    0.821137406769937\n",
      "The average ratings of Volume at  Los Primos Mexican Food are    0.7714424364123159\n",
      "\n",
      "\n",
      "------------------------------------------------------------------------\n",
      "The average ratings of Tortilla at  valentines Mexican food are    nan\n",
      "The average ratings of Tortilla at  California Burritos are    3.991304347826087\n",
      "The average ratings of Tortilla at  Taco Stand are    3.9166666666666665\n",
      "The average ratings of Tortilla at  Lucha Libre North Park are    3.6785714285714284\n",
      "The average ratings of Tortilla at  Los Primos Mexican Food are    3.3333333333333335\n",
      "\n",
      "\n",
      "------------------------------------------------------------------------\n",
      "The average ratings of Temp at  valentines Mexican food are    nan\n",
      "The average ratings of Temp at  California Burritos are    3.491304347826087\n",
      "The average ratings of Temp at  Taco Stand are    3.7916666666666665\n",
      "The average ratings of Temp at  Lucha Libre North Park are    3.1999999999999997\n",
      "The average ratings of Temp at  Los Primos Mexican Food are    3.5200913242009135\n",
      "\n",
      "\n",
      "------------------------------------------------------------------------\n",
      "The average ratings of Meat at  valentines Mexican food are    nan\n",
      "The average ratings of Meat at  California Burritos are    4.065217391304348\n",
      "The average ratings of Meat at  Taco Stand are    4.291666666666667\n",
      "The average ratings of Meat at  Lucha Libre North Park are    3.6103121409421677\n",
      "The average ratings of Meat at  Los Primos Mexican Food are    2.9583333333333335\n",
      "\n",
      "\n",
      "------------------------------------------------------------------------\n",
      "The average ratings of Fillings at  valentines Mexican food are    nan\n",
      "The average ratings of Fillings at  California Burritos are    3.9565217391304346\n",
      "The average ratings of Fillings at  Taco Stand are    4.0\n",
      "The average ratings of Fillings at  Lucha Libre North Park are    3.3642857142857143\n",
      "The average ratings of Fillings at  Los Primos Mexican Food are    3.25\n",
      "\n",
      "\n",
      "------------------------------------------------------------------------\n",
      "The average ratings of Meat:filling at  valentines Mexican food are    nan\n",
      "The average ratings of Meat:filling at  California Burritos are    4.032608695652174\n",
      "The average ratings of Meat:filling at  Taco Stand are    3.85\n",
      "The average ratings of Meat:filling at  Lucha Libre North Park are    3.489043198181129\n",
      "The average ratings of Meat:filling at  Los Primos Mexican Food are    2.0833333333333335\n",
      "\n",
      "\n",
      "------------------------------------------------------------------------\n",
      "The average ratings of Uniformity at  valentines Mexican food are    nan\n",
      "The average ratings of Uniformity at  California Burritos are    3.782608695652174\n",
      "The average ratings of Uniformity at  Taco Stand are    3.8333333333333335\n",
      "The average ratings of Uniformity at  Lucha Libre North Park are    3.185714285714286\n",
      "The average ratings of Uniformity at  Los Primos Mexican Food are    2.9101936466492604\n",
      "\n",
      "\n",
      "------------------------------------------------------------------------\n",
      "The average ratings of Salsa at  valentines Mexican food are    nan\n",
      "The average ratings of Salsa at  California Burritos are    3.5520421607378125\n",
      "The average ratings of Salsa at  Taco Stand are    3.6\n",
      "The average ratings of Salsa at  Lucha Libre North Park are    3.9053030303030303\n",
      "The average ratings of Salsa at  Los Primos Mexican Food are    3.1666666666666665\n",
      "\n",
      "\n",
      "------------------------------------------------------------------------\n",
      "The average ratings of Synergy at  valentines Mexican food are    nan\n",
      "The average ratings of Synergy at  California Burritos are    4.086956521739131\n",
      "The average ratings of Synergy at  Taco Stand are    4.316666666666666\n",
      "The average ratings of Synergy at  Lucha Libre North Park are    3.314285714285714\n",
      "The average ratings of Synergy at  Los Primos Mexican Food are    2.6666666666666665\n",
      "\n",
      "\n",
      "------------------------------------------------------------------------\n",
      "The average ratings of Wrap at  valentines Mexican food are    nan\n",
      "The average ratings of Wrap at  California Burritos are    4.3478260869565215\n",
      "The average ratings of Wrap at  Taco Stand are    4.0\n",
      "The average ratings of Wrap at  Lucha Libre North Park are    4.014285714285714\n",
      "The average ratings of Wrap at  Los Primos Mexican Food are    3.4166666666666665\n",
      "\n",
      "\n",
      "------------------------------------------------------------------------\n"
     ]
    }
   ],
   "source": [
    "Location =['valentines Mexican food','California Burritos','Taco Stand','Lucha Libre North Park','Los Primos Mexican Food']\n",
    "dimension=['Volume','Tortilla','Temp','Meat','Fillings','Meat:filling','Uniformity','Salsa','Synergy','Wrap']\n",
    "\n",
    "for i in range(len(dimension)):\n",
    "    for j in range(len(Location)):\n",
    "        value=burritos[burritos['Location']==Location[j]][dimension[i]].mean()\n",
    "        \n",
    "        print('The average ratings of',dimension[i],'at ',Location[j],'are   ', value)\n",
    "    print('\\n')\n",
    "    print('------------------------------------------------------------------------')\n",
    "      "
   ]
  },
  {
   "cell_type": "markdown",
   "metadata": {},
   "source": [
    "# Finding the average ratings of different dimensions at top best restaurants to least best restaurant(i.e) keeping restaurant common we shall find average of different demension??"
   ]
  },
  {
   "cell_type": "code",
   "execution_count": 16,
   "metadata": {},
   "outputs": [
    {
     "name": "stdout",
     "output_type": "stream",
     "text": [
      "The average ratings of Volume at  valentines Mexican food are       : nan\n",
      "The average ratings of Tortilla at  valentines Mexican food are       : nan\n",
      "The average ratings of Temp at  valentines Mexican food are       : nan\n",
      "The average ratings of Meat at  valentines Mexican food are       : nan\n",
      "The average ratings of Fillings at  valentines Mexican food are       : nan\n",
      "The average ratings of Meat:filling at  valentines Mexican food are       : nan\n",
      "The average ratings of Uniformity at  valentines Mexican food are       : nan\n",
      "The average ratings of Salsa at  valentines Mexican food are       : nan\n",
      "The average ratings of Synergy at  valentines Mexican food are       : nan\n",
      "\n",
      "\n",
      "------------------------------------------------------------------------\n",
      "The average ratings of Volume at  California Burritos are       : 0.815140562248996\n",
      "The average ratings of Tortilla at  California Burritos are       : 3.991304347826087\n",
      "The average ratings of Temp at  California Burritos are       : 3.491304347826087\n",
      "The average ratings of Meat at  California Burritos are       : 4.065217391304348\n",
      "The average ratings of Fillings at  California Burritos are       : 3.9565217391304346\n",
      "The average ratings of Meat:filling at  California Burritos are       : 4.032608695652174\n",
      "The average ratings of Uniformity at  California Burritos are       : 3.782608695652174\n",
      "The average ratings of Salsa at  California Burritos are       : 3.5520421607378125\n",
      "The average ratings of Synergy at  California Burritos are       : 4.086956521739131\n",
      "\n",
      "\n",
      "------------------------------------------------------------------------\n",
      "The average ratings of Volume at  Taco Stand are       : 0.758186077643909\n",
      "The average ratings of Tortilla at  Taco Stand are       : 3.9166666666666665\n",
      "The average ratings of Temp at  Taco Stand are       : 3.7916666666666665\n",
      "The average ratings of Meat at  Taco Stand are       : 4.291666666666667\n",
      "The average ratings of Fillings at  Taco Stand are       : 4.0\n",
      "The average ratings of Meat:filling at  Taco Stand are       : 3.85\n",
      "The average ratings of Uniformity at  Taco Stand are       : 3.8333333333333335\n",
      "The average ratings of Salsa at  Taco Stand are       : 3.6\n",
      "The average ratings of Synergy at  Taco Stand are       : 4.316666666666666\n",
      "\n",
      "\n",
      "------------------------------------------------------------------------\n",
      "The average ratings of Volume at  Lucha Libre North Park are       : 0.821137406769937\n",
      "The average ratings of Tortilla at  Lucha Libre North Park are       : 3.6785714285714284\n",
      "The average ratings of Temp at  Lucha Libre North Park are       : 3.1999999999999997\n",
      "The average ratings of Meat at  Lucha Libre North Park are       : 3.6103121409421677\n",
      "The average ratings of Fillings at  Lucha Libre North Park are       : 3.3642857142857143\n",
      "The average ratings of Meat:filling at  Lucha Libre North Park are       : 3.489043198181129\n",
      "The average ratings of Uniformity at  Lucha Libre North Park are       : 3.185714285714286\n",
      "The average ratings of Salsa at  Lucha Libre North Park are       : 3.9053030303030303\n",
      "The average ratings of Synergy at  Lucha Libre North Park are       : 3.314285714285714\n",
      "\n",
      "\n",
      "------------------------------------------------------------------------\n",
      "The average ratings of Volume at  Los Primos Mexican Food are       : 0.7714424364123159\n",
      "The average ratings of Tortilla at  Los Primos Mexican Food are       : 3.3333333333333335\n",
      "The average ratings of Temp at  Los Primos Mexican Food are       : 3.5200913242009135\n",
      "The average ratings of Meat at  Los Primos Mexican Food are       : 2.9583333333333335\n",
      "The average ratings of Fillings at  Los Primos Mexican Food are       : 3.25\n",
      "The average ratings of Meat:filling at  Los Primos Mexican Food are       : 2.0833333333333335\n",
      "The average ratings of Uniformity at  Los Primos Mexican Food are       : 2.9101936466492604\n",
      "The average ratings of Salsa at  Los Primos Mexican Food are       : 3.1666666666666665\n",
      "The average ratings of Synergy at  Los Primos Mexican Food are       : 2.6666666666666665\n",
      "\n",
      "\n",
      "------------------------------------------------------------------------\n"
     ]
    }
   ],
   "source": [
    "Location =['valentines Mexican food','California Burritos','Taco Stand','Lucha Libre North Park','Los Primos Mexican Food']\n",
    "dimension=['Volume','Tortilla','Temp','Meat','Fillings','Meat:filling','Uniformity','Salsa','Synergy','Wrap']\n",
    "\n",
    "for i in range(len(Location)):\n",
    "    for j in range(9):\n",
    "        value=burritos[burritos['Location']==Location[i]][dimension[j]].mean()\n",
    "        \n",
    "        print('The average ratings of',dimension[j],'at ',Location[i],'are       :', value)\n",
    "    print('\\n')\n",
    "    print('------------------------------------------------------------------------')\n",
    "      "
   ]
  },
  {
   "cell_type": "markdown",
   "metadata": {},
   "source": [
    "# Describing taco shops"
   ]
  },
  {
   "cell_type": "markdown",
   "metadata": {},
   "source": [
    "# Taco shops with yelp rating >=4 stars, with average burrito rating"
   ]
  },
  {
   "cell_type": "code",
   "execution_count": 17,
   "metadata": {},
   "outputs": [
    {
     "name": "stdout",
     "output_type": "stream",
     "text": [
      "15                          Taco Stand\n",
      "25           Lola's 7 Up Market & Deli\n",
      "42            Cancun Mexican & Seafood\n",
      "50                     Mikes Taco Club\n",
      "52                     La Perla Cocina\n",
      "66                 California Burritos\n",
      "78        Mi Asador Mexican & Seafood \n",
      "80                  Sotos Mexican Food\n",
      "118                 Netos Mexican Food\n",
      "153             El Dorado Mexican Food\n",
      "222                      Tacos La Bala\n",
      "239    La Morena Taco Shop and Seafood\n",
      "248               Matador Mexican Food\n",
      "282         Famoso Mexican Street Food\n",
      "300                     Mister Falafel\n",
      "341                        Los Tacos 2\n",
      "362                    Burrito Factory\n",
      "Name: Location, dtype: object\n"
     ]
    }
   ],
   "source": [
    "#taco shop with more than 4 yelp ratings\n",
    "yelp=burritos[burritos['Yelp']==4.5]['Location']\n",
    "print(yelp)"
   ]
  },
  {
   "cell_type": "code",
   "execution_count": 18,
   "metadata": {},
   "outputs": [
    {
     "name": "stdout",
     "output_type": "stream",
     "text": [
      "The mean average of the taco shop rated at 4.5 in yelp rating:  4.2250000000000005\n",
      "The mean average of the taco shop rated at 4.5 in yelp rating:  3.4\n",
      "The mean average of the taco shop rated at 4.5 in yelp rating:  4.1000000000000005\n",
      "The mean average of the taco shop rated at 4.5 in yelp rating:  4.4\n",
      "The mean average of the taco shop rated at 4.5 in yelp rating:  3.5\n",
      "The mean average of the taco shop rated at 4.5 in yelp rating:  4.1786793801793625\n",
      "The mean average of the taco shop rated at 4.5 in yelp rating:  nan\n",
      "The mean average of the taco shop rated at 4.5 in yelp rating:  3.35\n",
      "The mean average of the taco shop rated at 4.5 in yelp rating:  nan\n",
      "The mean average of the taco shop rated at 4.5 in yelp rating:  4.025\n",
      "The mean average of the taco shop rated at 4.5 in yelp rating:  2.45\n",
      "The mean average of the taco shop rated at 4.5 in yelp rating:  3.0\n",
      "The mean average of the taco shop rated at 4.5 in yelp rating:  3.0\n",
      "The mean average of the taco shop rated at 4.5 in yelp rating:  3.1\n",
      "The mean average of the taco shop rated at 4.5 in yelp rating:  3.5\n",
      "The mean average of the taco shop rated at 4.5 in yelp rating:  4.208333333333333\n",
      "The mean average of the taco shop rated at 4.5 in yelp rating:  3.5\n"
     ]
    }
   ],
   "source": [
    "a=['Taco Stand','Lola\\'s 7 Up Market & Deli','Cancun Mexican & Seafood' ,'Mikes Taco Club','La Perla Cocina','California Burritos','Mi Asador Mexican & Seafood','Sotos Mexican Food', ' Netos Mexican Food', 'El Dorado Mexican Food','Tacos La Bala','La Morena Taco Shop and Seafood','Matador Mexican Food','Famoso Mexican Street Food','Mister Falafel','Los Tacos', 'Burrito Factory']\n",
    "for i in range(len(a)):\n",
    "    value=burritos[burritos['Location']==a[i]]['overall'].mean()\n",
    "    print('The mean average of the taco shop rated at 4.5 in yelp rating: ',value)"
   ]
  },
  {
   "cell_type": "markdown",
   "metadata": {},
   "source": [
    "# Best taco shops that provide free chips??"
   ]
  },
  {
   "cell_type": "code",
   "execution_count": 19,
   "metadata": {},
   "outputs": [
    {
     "name": "stdout",
     "output_type": "stream",
     "text": [
      "Los Primos Mexican Food         2\n",
      "Porkyland                       1\n",
      "Pollos Maria                    1\n",
      "Netos Mexican Food              1\n",
      "Tony's Fresh Mexican Food       1\n",
      "Los Cabos                       1\n",
      "Tacos por favor                 1\n",
      "Colima's                        1\n",
      "El Zarape                       1\n",
      "Los Panchos Taco Shop           1\n",
      "El Nopalito                     1\n",
      "Lupe's Taco Shop                1\n",
      "Pokirrito                       1\n",
      "California Burritos             1\n",
      "Rubios UCSD                     1\n",
      "Cancun Mexican & Seafood        1\n",
      "Lucha Libre North Park          1\n",
      "Mi Asador Mexican & Seafood     1\n",
      "Los palmitos                    1\n",
      "Sotos Mexican Food              1\n",
      "Name: Location, dtype: int64\n",
      "\n",
      " Total tacoshop that provide free chips is:  21\n"
     ]
    }
   ],
   "source": [
    "chip=burritos[burritos['Chips']=='x']['Location'] \n",
    "print(pd.value_counts(chip))\n",
    "print('\\n Total tacoshop that provide free chips is: ',sum(pd.value_counts(chip)))"
   ]
  },
  {
   "cell_type": "markdown",
   "metadata": {},
   "source": [
    "# Taco shops with salsa rating above 4"
   ]
  },
  {
   "cell_type": "code",
   "execution_count": 157,
   "metadata": {},
   "outputs": [
    {
     "data": {
      "text/plain": [
       "Lucha Libre North Park                                 9\n",
       "Rigoberto's Taco Shop                                  5\n",
       "Taco stand                                             5\n",
       "California Burritos                                    4\n",
       "Taco Stand                                             3\n",
       "Ortiz's Taco Shop #2                                   3\n",
       "Taco Stand Encinitas                                   3\n",
       "Valentines Mexican Food                                3\n",
       "Los Panchos Taco Shop                                  2\n",
       "El Cuervo                                              2\n",
       "El Dorado Mexican Food                                 2\n",
       "California burritos                                    1\n",
       "Burros and Fries                                       1\n",
       "California Burrito Company                             1\n",
       "Chili Peppers                                          1\n",
       "Taco Stand Encinitas                                   1\n",
       "Caliente Mexican Food                                  1\n",
       "Los Tacos                                              1\n",
       "Saguaro's                                              1\n",
       "Los Primos Mexican Food                                1\n",
       "Humbertos                                              1\n",
       "El Zarape                                              1\n",
       "Cancun Mexican & Seafood                               1\n",
       "Pokirrito                                              1\n",
       "Sotos Mexican Food                                     1\n",
       "Alberto's 623 N Escondido Blvd, Escondido, CA 92025    1\n",
       "Name: Location, dtype: int64"
      ]
     },
     "execution_count": 157,
     "metadata": {},
     "output_type": "execute_result"
    }
   ],
   "source": [
    "pd.value_counts(burritos[burritos['Salsa']>4]['Location'])"
   ]
  },
  {
   "cell_type": "markdown",
   "metadata": {},
   "source": [
    "# Overall ratings when the dimensions rating is 2.5 or lower??"
   ]
  },
  {
   "cell_type": "code",
   "execution_count": 20,
   "metadata": {},
   "outputs": [
    {
     "name": "stdout",
     "output_type": "stream",
     "text": [
      "The average rating when the dimension ratings are equal to  1 of dimension Volume is:  3.9\n",
      "The average rating when the dimension ratings are equal to  1.5 of dimension Volume is:  nan\n",
      "The average rating when the dimension ratings are equal to  2 of dimension Volume is:  nan\n",
      "The average rating when the dimension ratings are equal to  2.5 of dimension Volume is:  nan\n",
      "\n",
      "\n",
      "-----------------------------------------------------------------------------------------\n",
      "The average rating when the dimension ratings are equal to  1 of dimension Tortilla is:  2.0\n",
      "The average rating when the dimension ratings are equal to  1.5 of dimension Tortilla is:  2.766666666666667\n",
      "The average rating when the dimension ratings are equal to  2 of dimension Tortilla is:  3.0684000000000005\n",
      "The average rating when the dimension ratings are equal to  2.5 of dimension Tortilla is:  2.955263157894737\n",
      "\n",
      "\n",
      "-----------------------------------------------------------------------------------------\n",
      "The average rating when the dimension ratings are equal to  1 of dimension Temp is:  2.033333333333333\n",
      "The average rating when the dimension ratings are equal to  1.5 of dimension Temp is:  2.7000000000000006\n",
      "The average rating when the dimension ratings are equal to  2 of dimension Temp is:  3.6629629629629625\n",
      "The average rating when the dimension ratings are equal to  2.5 of dimension Temp is:  3.034100459716524\n",
      "\n",
      "\n",
      "-----------------------------------------------------------------------------------------\n",
      "The average rating when the dimension ratings are equal to  1 of dimension Meat is:  1.6666666666666667\n",
      "The average rating when the dimension ratings are equal to  1.5 of dimension Meat is:  2.2800000000000002\n",
      "The average rating when the dimension ratings are equal to  2 of dimension Meat is:  2.48125\n",
      "The average rating when the dimension ratings are equal to  2.5 of dimension Meat is:  2.8888888888888893\n",
      "\n",
      "\n",
      "-----------------------------------------------------------------------------------------\n",
      "The average rating when the dimension ratings are equal to  1 of dimension Fillings is:  1.6666666666666667\n",
      "The average rating when the dimension ratings are equal to  1.5 of dimension Fillings is:  2.1666666666666665\n",
      "The average rating when the dimension ratings are equal to  2 of dimension Fillings is:  2.2569565217391307\n",
      "The average rating when the dimension ratings are equal to  2.5 of dimension Fillings is:  2.8500000000000005\n",
      "\n",
      "\n",
      "-----------------------------------------------------------------------------------------\n",
      "The average rating when the dimension ratings are equal to  1 of dimension Meat:filling is:  2.533333333333333\n",
      "The average rating when the dimension ratings are equal to  1.5 of dimension Meat:filling is:  3.0545454545454547\n",
      "The average rating when the dimension ratings are equal to  2 of dimension Meat:filling is:  2.6863636363636365\n",
      "The average rating when the dimension ratings are equal to  2.5 of dimension Meat:filling is:  2.9909090909090916\n",
      "\n",
      "\n",
      "-----------------------------------------------------------------------------------------\n",
      "The average rating when the dimension ratings are equal to  1 of dimension Uniformity is:  2.4250000000000003\n",
      "The average rating when the dimension ratings are equal to  1.5 of dimension Uniformity is:  3.3545454545454545\n",
      "The average rating when the dimension ratings are equal to  2 of dimension Uniformity is:  3.1931818181818183\n",
      "The average rating when the dimension ratings are equal to  2.5 of dimension Uniformity is:  3.4608695652173918\n",
      "\n",
      "\n",
      "-----------------------------------------------------------------------------------------\n",
      "The average rating when the dimension ratings are equal to  1 of dimension Salsa is:  2.7800000000000002\n",
      "The average rating when the dimension ratings are equal to  1.5 of dimension Salsa is:  2.75\n",
      "The average rating when the dimension ratings are equal to  2 of dimension Salsa is:  3.039999999999999\n",
      "The average rating when the dimension ratings are equal to  2.5 of dimension Salsa is:  3.349999999999999\n",
      "\n",
      "\n",
      "-----------------------------------------------------------------------------------------\n",
      "The average rating when the dimension ratings are equal to  1 of dimension Synergy is:  1.8\n",
      "The average rating when the dimension ratings are equal to  1.5 of dimension Synergy is:  2.157142857142857\n",
      "The average rating when the dimension ratings are equal to  2 of dimension Synergy is:  2.425925925925926\n",
      "The average rating when the dimension ratings are equal to  2.5 of dimension Synergy is:  2.9071428571428575\n",
      "\n",
      "\n",
      "-----------------------------------------------------------------------------------------\n"
     ]
    }
   ],
   "source": [
    "a=[1,1.5,2,2.5]\n",
    "dimension=['Volume','Tortilla','Temp','Meat','Fillings','Meat:filling','Uniformity','Salsa','Synergy','Wrap']\n",
    "for i in range(9):\n",
    "    for j in range(len(a)):\n",
    "        values=burritos[burritos[dimension[i]]==a[j]]['overall'].mean()\n",
    "        print('The average rating when the dimension ratings are equal to ',a[j],'of dimension',dimension[i],'is: ',values)\n",
    "        \n",
    "    print('\\n')\n",
    "    print('-----------------------------------------------------------------------------------------')"
   ]
  },
  {
   "cell_type": "markdown",
   "metadata": {},
   "source": [
    "# Calculating the reviewer and the date of overall rating for California burritos  at Taco Stand only??"
   ]
  },
  {
   "cell_type": "code",
   "execution_count": 21,
   "metadata": {},
   "outputs": [
    {
     "name": "stdout",
     "output_type": "stream",
     "text": [
      "-----------------------------------------------------------------------------\n",
      "The dates in which the reviewer  at \"Tacostand\"  'california burrito' are:\n",
      "--------------------------------------------------------------------------------\n",
      "15     2/12/2016\n",
      "23     2/28/2016\n",
      "24     2/28/2016\n",
      "232    9/16/2016\n",
      "Name: Date, dtype: object\n",
      "\n",
      "\n",
      "---------------------------------------------------------------\n",
      "The reviewers at \"Tacostand\" for 'california burrito' are:\n",
      "-----------------------------------------------------------------\n",
      "15     Emily\n",
      "23     Scott\n",
      "24     Emily\n",
      "232     Luis\n",
      "Name: Reviewer, dtype: object\n",
      "\n",
      "\n",
      "---------------------------------------------------------------\n",
      "The overall rating of reviewers at \"Tacostand\" for 'california burrito' are:\n",
      "-----------------------------------------------------------------\n",
      "15     4.2\n",
      "23     4.6\n",
      "24     4.5\n",
      "232    4.7\n",
      "Name: overall, dtype: float64\n"
     ]
    }
   ],
   "source": [
    "ts=burritos[(burritos['Location']=='Taco Stand') & (burritos['Burrito']=='California')]\n",
    "\n",
    "print('-----------------------------------------------------------------------------')\n",
    "print('The dates in which the reviewer  at \"Tacostand\"  \\'california burrito\\' are:')\n",
    "print('--------------------------------------------------------------------------------')\n",
    "print(ts.Date)\n",
    "\n",
    "print('\\n')\n",
    "print('---------------------------------------------------------------')\n",
    "print('The reviewers at \"Tacostand\" for \\'california burrito\\' are:')\n",
    "print('-----------------------------------------------------------------')\n",
    "print(ts.Reviewer)\n",
    "\n",
    "print('\\n')\n",
    "print('---------------------------------------------------------------')\n",
    "print('The overall rating of reviewers at \"Tacostand\" for \\'california burrito\\' are:')\n",
    "print('-----------------------------------------------------------------')\n",
    "print(ts.overall)"
   ]
  },
  {
   "cell_type": "markdown",
   "metadata": {},
   "source": [
    "# Calculating the total no. of Burritos accordingly to the cost"
   ]
  },
  {
   "cell_type": "code",
   "execution_count": 22,
   "metadata": {},
   "outputs": [
    {
     "data": {
      "text/plain": [
       "6.25    41\n",
       "6.99    22\n",
       "7.90    17\n",
       "8.25    17\n",
       "7.50    16\n",
       "7.00    16\n",
       "5.99    15\n",
       "7.49    15\n",
       "6.60    15\n",
       "6.50    14\n",
       "7.89     9\n",
       "Name: Cost, dtype: int64"
      ]
     },
     "execution_count": 22,
     "metadata": {},
     "output_type": "execute_result"
    }
   ],
   "source": [
    "#calculating no. of burritos for each cost and taking first 10\n",
    "pd.value_counts(burritos['Cost']).head(11)"
   ]
  },
  {
   "cell_type": "code",
   "execution_count": 23,
   "metadata": {},
   "outputs": [
    {
     "name": "stdout",
     "output_type": "stream",
     "text": [
      "The Burritos costed 6.25$:  California Everything     13\n",
      "California                11\n",
      "Carne asada everything     4\n",
      "Carne Asada                2\n",
      "Adobada                    2\n",
      "Name: Burrito, dtype: int64\n",
      "\n",
      "\n",
      "--------------------------------------------\n",
      "The Burritos costed 6.99$:  California Everything     13\n",
      "California                11\n",
      "Carne asada everything     4\n",
      "Carne Asada                2\n",
      "Adobada                    2\n",
      "Name: Burrito, dtype: int64\n",
      "\n",
      "\n",
      "--------------------------------------------\n",
      "The Burritos costed 6.25$:  California Everything     13\n",
      "California                11\n",
      "Carne asada everything     4\n",
      "Carne Asada                2\n",
      "Adobada                    2\n",
      "Name: Burrito, dtype: int64\n",
      "\n",
      "\n",
      "--------------------------------------------\n"
     ]
    }
   ],
   "source": [
    "#The first five burritos that costs 6.25$\n",
    "cost=pd.value_counts(burritos[burritos['Cost']==6.25]['Burrito']).head()\n",
    "print('The Burritos costed 6.25$: ',cost)\n",
    "print('\\n')\n",
    "print('--------------------------------------------')\n",
    "print('The Burritos costed 6.99$: ',cost)\n",
    "print('\\n')\n",
    "print('--------------------------------------------')\n",
    "print('The Burritos costed 6.25$: ',cost)\n",
    "print('\\n')\n",
    "print('--------------------------------------------')\n"
   ]
  },
  {
   "cell_type": "markdown",
   "metadata": {},
   "source": [
    "# Number of different burritos rated at Taco Stand"
   ]
  },
  {
   "cell_type": "code",
   "execution_count": 24,
   "metadata": {},
   "outputs": [
    {
     "data": {
      "text/plain": [
       "California        4\n",
       "California        4\n",
       "Al pastor         2\n",
       "Al Pastor         1\n",
       "Surf and turf     1\n",
       "Name: Burrito, dtype: int64"
      ]
     },
     "execution_count": 24,
     "metadata": {},
     "output_type": "execute_result"
    }
   ],
   "source": [
    "pd.value_counts(burritos[burritos['Location']=='Taco Stand']['Burrito'])"
   ]
  },
  {
   "cell_type": "code",
   "execution_count": 28,
   "metadata": {},
   "outputs": [
    {
     "name": "stdout",
     "output_type": "stream",
     "text": [
      "The ratings obtained at tacostand for  California burritos are \n",
      " 4.6    1\n",
      "4.2    1\n",
      "4.7    1\n",
      "4.5    1\n",
      "Name: overall, dtype: int64\n",
      "--------------------------------------------------------------------------------------\n",
      "The ratings obtained at tacostand for  Al Pastor burritos are \n",
      " 4.5    1\n",
      "Name: overall, dtype: int64\n",
      "--------------------------------------------------------------------------------------\n",
      "The ratings obtained at tacostand for  Surf and turf burritos are \n",
      " Series([], Name: overall, dtype: int64)\n",
      "--------------------------------------------------------------------------------------\n"
     ]
    }
   ],
   "source": [
    "a=['California','Al Pastor','Surf and turf']\n",
    "for i in range(len(a)):\n",
    "    value=pd.value_counts(burritos[(burritos['Location']=='Taco Stand') & (burritos['Burrito']==a[i])]['overall'])\n",
    "    print('The ratings obtained at tacostand for ',a[i],'burritos are \\n',value )\n",
    "    print('--------------------------------------------------------------------------------------')"
   ]
  },
  {
   "cell_type": "code",
   "execution_count": 29,
   "metadata": {},
   "outputs": [
    {
     "name": "stdout",
     "output_type": "stream",
     "text": [
      "The overall ratings obtained at taco stand for  California burrito is  18.0\n",
      "The overall ratings obtained at taco stand for  Al Pastor burrito is  4.5\n",
      "The overall ratings obtained at taco stand for  Surf and turf burrito is  0\n"
     ]
    }
   ],
   "source": [
    "a=['California','Al Pastor','Surf and turf']\n",
    "for i in range(len(a)):\n",
    "    value=burritos[(burritos['Location']=='Taco Stand') & (burritos['Burrito']==a[i])]['overall']\n",
    "    print('The overall ratings obtained at taco stand for ',a[i],'burrito is ',sum(value))"
   ]
  },
  {
   "cell_type": "code",
   "execution_count": null,
   "metadata": {},
   "outputs": [],
   "source": []
  }
 ],
 "metadata": {
  "kernelspec": {
   "display_name": "Python 3",
   "language": "python",
   "name": "python3"
  },
  "language_info": {
   "codemirror_mode": {
    "name": "ipython",
    "version": 3
   },
   "file_extension": ".py",
   "mimetype": "text/x-python",
   "name": "python",
   "nbconvert_exporter": "python",
   "pygments_lexer": "ipython3",
   "version": "3.7.1"
  }
 },
 "nbformat": 4,
 "nbformat_minor": 2
}
